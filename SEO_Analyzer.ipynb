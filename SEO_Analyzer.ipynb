{
 "cells": [
  {
   "cell_type": "code",
   "execution_count": 4,
   "id": "ab917ac5-4a88-4aa6-80f4-3750bd8712ee",
   "metadata": {},
   "outputs": [],
   "source": [
    "from tkinter import messagebox, scrolledtext, filedialog, font\n",
    "import requests\n",
    "from bs4 import BeautifulSoup\n",
    "from collections import Counter\n",
    "import re\n",
    "import tkinter as tk\n",
    "from urllib.parse import urljoin"
   ]
  },
  {
   "cell_type": "code",
   "execution_count": 5,
   "id": "35b881a1-41c5-4064-9850-046bd5a0992c",
   "metadata": {},
   "outputs": [],
   "source": [
    "\n",
    "\n",
    "def analyze_images_and_links(soup, base_url):\n",
    "    images = soup.find_all('img')\n",
    "    links = soup.find_all('a')\n",
    "    \n",
    "    image_report = \"Image Analysis Report:\\n\"\n",
    "    for i, img in enumerate(images, 1):\n",
    "        alt_text = img.get('alt', 'No Alt Text')\n",
    "        image_report += f\"Image {i}: Alt Text - {alt_text}\\n\"\n",
    "    \n",
    "    link_report = \"Link Analysis Report:\\n\"\n",
    "    broken_links = 0\n",
    "    for i, link in enumerate(links, 1):\n",
    "        href = link.get('href', '')\n",
    "        full_url = urljoin(base_url, href)  # Convert relative URLs to absolute\n",
    "        try:\n",
    "            if full_url.startswith('http'):\n",
    "                response = requests.head(full_url, allow_redirects=True, timeout=5)\n",
    "                if response.status_code >= 400:\n",
    "                    broken_links += 1\n",
    "                    link_report += f\"Link {i}: {full_url} (Broken Link)\\n\"\n",
    "        except requests.RequestException:\n",
    "            link_report += f\"Link {i}: {full_url} (Potential Broken Link)\\n\"\n",
    "    \n",
    "    return image_report + \"\\n\" + link_report + f\"\\nTotal Broken Links Found: {broken_links}\"\n"
   ]
  },
  {
   "cell_type": "code",
   "execution_count": 6,
   "id": "dc649c6a-a4b5-40bc-88bb-b341fe174dd7",
   "metadata": {},
   "outputs": [],
   "source": [
    "def fetch_and_analyze_seo(url):\n",
    "    try:\n",
    "        response = requests.get(url)\n",
    "        response.raise_for_status()\n",
    "        soup = BeautifulSoup(response.text, 'html.parser')\n",
    "\n",
    "        text = soup.get_text(separator=' ')\n",
    "        words = re.findall(r'\\b\\w+\\b', text.lower())\n",
    "        word_count = Counter(words)\n",
    "        most_common_words = word_count.most_common(10)\n",
    "\n",
    "        title = soup.find('title').text if soup.find('title') else \"No Title\"\n",
    "        meta_description = soup.find('meta', attrs={'name': 'description'})\n",
    "        meta_description_content = meta_description['content'] if meta_description else \"No Meta Description\"\n",
    "\n",
    "        image_and_link_report = analyze_images_and_links(soup, url)\n",
    "\n",
    "        report = f\"SEO Analysis Report for {url}\\n\"\n",
    "        report += f\"Title: {title} ({len(title)} characters)\\n\"\n",
    "        report += f\"Meta Description: {meta_description_content} ({len(meta_description_content)} characters)\\n\"\n",
    "        report += f\"Most Common Words: {', '.join([f'{word} ({count})' for word, count in most_common_words])}\\n\"\n",
    "        report += image_and_link_report\n",
    "        report += \"\\nFull Text of the Page:\\n\" + text\n",
    "\n",
    "        return report\n",
    "    except requests.RequestException as e:\n",
    "        return f\"Error fetching URL: {e}\"\n",
    "    except Exception as e:\n",
    "        return f\"An error occurred: {e}\"\n"
   ]
  },
  {
   "cell_type": "code",
   "execution_count": 7,
   "id": "ed206dc5-a65b-42ec-8fd5-3e931d330608",
   "metadata": {},
   "outputs": [],
   "source": [
    "def submit_action():\n",
    "    url = url_entry.get()\n",
    "    if not url:\n",
    "        messagebox.showerror(\"Error\", \"Please enter a URL\")\n",
    "        return\n",
    "    result = fetch_and_analyze_seo(url)\n",
    "    report_text.delete(1.0, tk.END)\n",
    "    report_text.insert(tk.END, result)"
   ]
  },
  {
   "cell_type": "code",
   "execution_count": 8,
   "id": "ee8e6e53-74c2-425d-ace5-a2944a22789a",
   "metadata": {},
   "outputs": [],
   "source": [
    "def save_report():\n",
    "    report_data = report_text.get(1.0, tk.END)\n",
    "    file_path = filedialog.asksaveasfilename(defaultextension=\".txt\", filetypes=[(\"Text files\", \"*.txt\")])\n",
    "    if file_path:\n",
    "        with open(file_path, 'w') as file:\n",
    "            file.write(report_data)\n",
    "        messagebox.showinfo(\"Save Report\", \"The report was saved successfully!\")"
   ]
  },
  {
   "cell_type": "code",
   "execution_count": 9,
   "id": "4799afa7-a875-45f6-8a40-01e74bbf63d2",
   "metadata": {},
   "outputs": [],
   "source": [
    "root = tk.Tk()\n",
    "root.title(\"SEO Analyzer\")\n",
    "\n",
    "default_font = font.nametofont(\"TkDefaultFont\")\n",
    "default_font.configure(family=\"Helvetica\")\n",
    "\n",
    "tk.Label(root, text=\"Enter URL:\").pack()\n",
    "url_entry = tk.Entry(root, width=50)\n",
    "url_entry.pack()\n",
    "\n",
    "submit_button = tk.Button(root, text=\"Analyze SEO\", command=submit_action)\n",
    "submit_button.pack()\n",
    "\n",
    "report_text = scrolledtext.ScrolledText(root, height=20)\n",
    "report_text.pack()\n",
    "\n",
    "save_button = tk.Button(root, text=\"Save Report\", command=save_report)\n",
    "save_button.pack()\n",
    "\n",
    "root.mainloop()"
   ]
  },
  {
   "cell_type": "code",
   "execution_count": null,
   "id": "d0fbdc44-e931-4045-b695-7e965d217b6b",
   "metadata": {},
   "outputs": [],
   "source": []
  },
  {
   "cell_type": "code",
   "execution_count": null,
   "id": "7d58235a-2256-4b6d-98da-4107f1abc0f7",
   "metadata": {},
   "outputs": [],
   "source": []
  }
 ],
 "metadata": {
  "kernelspec": {
   "display_name": "Python 3 (ipykernel)",
   "language": "python",
   "name": "python3"
  },
  "language_info": {
   "codemirror_mode": {
    "name": "ipython",
    "version": 3
   },
   "file_extension": ".py",
   "mimetype": "text/x-python",
   "name": "python",
   "nbconvert_exporter": "python",
   "pygments_lexer": "ipython3",
   "version": "3.11.7"
  },
  "widgets": {
   "application/vnd.jupyter.widget-state+json": {
    "state": {},
    "version_major": 2,
    "version_minor": 0
   }
  }
 },
 "nbformat": 4,
 "nbformat_minor": 5
}
